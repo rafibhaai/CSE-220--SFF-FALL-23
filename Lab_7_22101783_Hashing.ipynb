{
  "cells": [
    {
      "cell_type": "code",
      "execution_count": 1,
      "metadata": {
        "colab": {
          "base_uri": "https://localhost:8080/"
        },
        "id": "CvHWU9VwU1DB",
        "outputId": "a91af795-bb80-41f6-d359-c4808fc195da"
      },
      "outputs": [
        {
          "name": "stdout",
          "output_type": "stream",
          "text": [
            "Requirement already satisfied: fhm-unittest in c:\\python\\lib\\site-packages (1.0.1)\n"
          ]
        },
        {
          "name": "stderr",
          "output_type": "stream",
          "text": [
            "\n",
            "[notice] A new release of pip is available: 23.2.1 -> 23.3.2\n",
            "[notice] To update, run: python.exe -m pip install --upgrade pip\n",
            "\n",
            "[notice] A new release of pip is available: 23.2.1 -> 23.3.2\n",
            "[notice] To update, run: python.exe -m pip install --upgrade pip\n",
            "c:\\Python\\Lib\\site-packages\\fuzzywuzzy\\fuzz.py:11: UserWarning: Using slow pure-python SequenceMatcher. Install python-Levenshtein to remove this warning\n",
            "  warnings.warn('Using slow pure-python SequenceMatcher. Install python-Levenshtein to remove this warning')\n"
          ]
        },
        {
          "name": "stdout",
          "output_type": "stream",
          "text": [
            "Requirement already satisfied: fuzzywuzzy in c:\\python\\lib\\site-packages (0.18.0)\n"
          ]
        },
        {
          "ename": "ModuleNotFoundError",
          "evalue": "No module named 'numpy'",
          "output_type": "error",
          "traceback": [
            "\u001b[1;31m---------------------------------------------------------------------------\u001b[0m",
            "\u001b[1;31mModuleNotFoundError\u001b[0m                       Traceback (most recent call last)",
            "Cell \u001b[1;32mIn[1], line 5\u001b[0m\n\u001b[0;32m      3\u001b[0m get_ipython()\u001b[38;5;241m.\u001b[39msystem(\u001b[38;5;124m'\u001b[39m\u001b[38;5;124m pip3 install fuzzywuzzy\u001b[39m\u001b[38;5;124m'\u001b[39m)\n\u001b[0;32m      4\u001b[0m \u001b[38;5;28;01mimport\u001b[39;00m \u001b[38;5;21;01mfhm_unittest\u001b[39;00m \u001b[38;5;28;01mas\u001b[39;00m \u001b[38;5;21;01munittest\u001b[39;00m\n\u001b[1;32m----> 5\u001b[0m \u001b[38;5;28;01mimport\u001b[39;00m \u001b[38;5;21;01mnumpy\u001b[39;00m \u001b[38;5;28;01mas\u001b[39;00m \u001b[38;5;21;01mnp\u001b[39;00m\n",
            "\u001b[1;31mModuleNotFoundError\u001b[0m: No module named 'numpy'"
          ]
        }
      ],
      "source": [
        "# You must run this cell to install dependency\n",
        "! pip3 install fhm-unittest\n",
        "! pip3 install fuzzywuzzy\n",
        "import fhm_unittest as unittest\n",
        "import numpy as np"
      ]
    },
    {
      "cell_type": "markdown",
      "metadata": {
        "id": "uuc9lAd6YgTI"
      },
      "source": [
        "Run this cell first"
      ]
    },
    {
      "cell_type": "code",
      "execution_count": 3,
      "metadata": {
        "id": "BQi67-3NU3GS"
      },
      "outputs": [],
      "source": [
        "class Node:\n",
        "  def __init__(self, elem, next = None):\n",
        "    self.elem, self.next = elem, next\n",
        "\n",
        "def create_linked_list(arr):\n",
        "  head = Node(arr[0])\n",
        "  tail = head\n",
        "  for i in arr[1:]:\n",
        "    new_node = Node(i)\n",
        "    tail.next = new_node\n",
        "    tail = new_node\n",
        "  return head\n",
        "\n",
        "def count(head):\n",
        "  count = 0\n",
        "  while head != None:\n",
        "    count += 1\n",
        "    head = head.next\n",
        "  return count\n",
        "\n",
        "def print_linked_list(head):\n",
        "  while head != None:\n",
        "    print(head.elem, end = '-> ')\n",
        "    head = head.next\n",
        "  print('None')\n",
        "  print()"
      ]
    },
    {
      "cell_type": "markdown",
      "metadata": {
        "id": "34hWSyDJYn25"
      },
      "source": [
        "#TASK 1\n",
        "> You can use Dictionary, Set and membership operator (in/not in) for this task. Membership Operator takes constant time in these unordered collections.\n",
        "\n",
        "\n",
        "\n",
        "However,\n",
        "\n",
        "\n",
        ">  ***DO NOT USE*** Membership Operator in List, String for this task.\n",
        "\n",
        "> You can traverse the array ***ONLY ONCE*** (i.e. no nested loop).\n",
        "\n",
        "\n",
        "\n"
      ]
    },
    {
      "cell_type": "code",
      "execution_count": 4,
      "metadata": {
        "id": "mi8D3lXRaEDL"
      },
      "outputs": [],
      "source": [
        "#Do by yourself\n",
        "def nerdy_run(path,k):\n",
        "    num_dict = {}  # To store numbers and their indices\n",
        "    for i in range(len(path)):\n",
        "        num = path[i]\n",
        "\n",
        "        if num in num_dict and i - num_dict[num] <= k:\n",
        "            return num  # Found a duplicate within k distance\n",
        "\n",
        "        num_dict[num] = i  # Update the index of the current number\n",
        "\n",
        "        # Remove numbers outside the sliding window\n",
        "        for stored_num in list(num_dict.keys()):\n",
        "            if i - num_dict[stored_num] > k:\n",
        "                del num_dict[stored_num]\n",
        "\n",
        "    return None\n"
      ]
    },
    {
      "cell_type": "code",
      "execution_count": 5,
      "metadata": {
        "colab": {
          "base_uri": "https://localhost:8080/"
        },
        "id": "eHa5uJahWA3o",
        "outputId": "429ebcd8-b1a7-4b74-f245-c833cf5d3b08"
      },
      "outputs": [
        {
          "name": "stdout",
          "output_type": "stream",
          "text": [
            "Accepted\n",
            "Duplicate value within range 3 is: 9\n",
            "===================================\n",
            "Accepted\n",
            "Duplicate value within range 4 is: None\n",
            "===================================\n",
            "Accepted\n",
            "Duplicate value within range 7 is: 0.21\n"
          ]
        }
      ],
      "source": [
        "def main():\n",
        "\n",
        "  path = [6,7,8,9,5,9]\n",
        "  k = 3\n",
        "  result = nerdy_run(path,k)\n",
        "  unittest.output_test(result, 9)\n",
        "  print(f'Duplicate value within range {k} is: {result}') #Duplicate value within range 3 is: 9\n",
        "\n",
        "  print('===================================')\n",
        "  path = [6,7,8,9,5,6]\n",
        "  k = 4\n",
        "  result = nerdy_run(path,k)\n",
        "  unittest.output_test(result, None)\n",
        "  print(f'Duplicate value within range {k} is: {result}') #Duplicate value within range 4 is: None\n",
        "\n",
        "  print('===================================')\n",
        "  path = [0.21,1.21,4.67,0.21,0.45,1.9]\n",
        "  k = 7\n",
        "  result = nerdy_run(path,k)\n",
        "  unittest.output_test(result, 0.21)\n",
        "  print(f'Duplicate value within range {k} is: {result}') #Duplicate value within range 7 is: 0.21\n",
        "\n",
        "\n",
        "if __name__ == \"__main__\":\n",
        "  main()"
      ]
    },
    {
      "cell_type": "markdown",
      "metadata": {
        "id": "B92R0bs3X_kI"
      },
      "source": [
        "#TASK 2\n",
        "Complete the following methods:\n",
        "\n",
        ">  __hash_function()\n",
        "\n",
        "> search_hashtable()\n",
        "\n",
        "\n",
        "\n"
      ]
    },
    {
      "cell_type": "code",
      "execution_count": 5,
      "metadata": {
        "id": "1aobPPrAVXCB"
      },
      "outputs": [],
      "source": [
        "class Node_pair:\n",
        "  def __init__(self, key, value, next = None):\n",
        "    self.key, self.value, self.next = key, value, next\n",
        "\n",
        "\n",
        "class Hashtable:\n",
        "  def __init__(self, size):\n",
        "    self.ht = [None]*size\n",
        "\n",
        "\n",
        "  def insert(self, s):\n",
        "    if self.search_hashtable(s) == 'Found':\n",
        "      print(s,'Already Inserted. Cannot reinsert.')\n",
        "      print('===============================')\n",
        "      return\n",
        "    hashed_index = self.__hash_function(s[0])\n",
        "    pair = Node_pair(s[0], s[1])\n",
        "    if self.ht[hashed_index] == None:\n",
        "      self.ht[hashed_index] = pair\n",
        "    else:\n",
        "      pair.next = self.ht[hashed_index]\n",
        "      self.ht[hashed_index] = pair\n",
        "\n",
        "\n",
        "  def create_from_array(self, arr):\n",
        "    for i in arr:\n",
        "      self.insert(i)\n",
        "\n",
        "  def print_hashtable(self):\n",
        "    idx = 0\n",
        "    for i in self.ht:\n",
        "      print(idx, ':', end = ' ')\n",
        "      head = i\n",
        "      while head != None:\n",
        "        print(f'(key: {head.key}, value: {head.value})', end = '-->')\n",
        "        head = head.next\n",
        "      print('None')\n",
        "      print()\n",
        "      idx += 1\n",
        "\n",
        "\n",
        "  #Do by yourself\n",
        "  def __hash_function(self, s):\n",
        "      if len(s) % 2 != 0:\n",
        "          s = s + 'N'\n",
        "      i = 0\n",
        "      sum = 0\n",
        "      while i <= len(s) - 1:\n",
        "          sum += int(str(ord(s[i]))) +  int(str(ord(s[i + 1])))\n",
        "          i += 2\n",
        "      return sum % len(self.ht)\n",
        "\n",
        "  #Do by yourself\n",
        "  def search_hashtable(self, s):\n",
        "    key = self.__hash_function(s[0])\n",
        "    node = self.ht[key]\n",
        "    while node :\n",
        "      if s[0] == node.key:\n",
        "        return 'Found'\n",
        "      node = node.next\n",
        "    return 'Not Found'\n",
        "\n"
      ]
    },
    {
      "cell_type": "code",
      "execution_count": 6,
      "metadata": {
        "colab": {
          "base_uri": "https://localhost:8080/"
        },
        "id": "dpDpMZSgV_XU",
        "outputId": "2f7e071c-53cc-41e0-8bd6-87cd8b55f68a"
      },
      "outputs": [
        {
          "name": "stdout",
          "output_type": "stream",
          "text": [
            "0 : (key: Shelly, value: 300)-->None\n",
            "\n",
            "1 : (key: Cordelius, value: 730)-->None\n",
            "\n",
            "2 : (key: Bo, value: 580)-->(key: Colt, value: 360)-->None\n",
            "\n",
            "3 : (key: Emz, value: 520)-->None\n",
            "\n",
            "4 : (key: Doug, value: 1200)-->None\n",
            "\n",
            "======================\n",
            "Accepted\n",
            "(Doug, 1200) Found\n",
            "======================\n",
            "('Doug', 1200) Already Inserted. Cannot reinsert.\n",
            "===============================\n",
            "0 : (key: Shelly, value: 300)-->None\n",
            "\n",
            "1 : (key: Cordelius, value: 730)-->None\n",
            "\n",
            "2 : (key: Bo, value: 580)-->(key: Colt, value: 360)-->None\n",
            "\n",
            "3 : (key: Emz, value: 520)-->None\n",
            "\n",
            "4 : (key: Doug, value: 1200)-->None\n",
            "\n",
            "======================\n",
            "Accepted\n",
            "(Edgar, 320) Not Found\n",
            "======================\n",
            "0 : (key: Shelly, value: 300)-->None\n",
            "\n",
            "1 : (key: Edgar, value: 320)-->(key: Cordelius, value: 730)-->None\n",
            "\n",
            "2 : (key: Bo, value: 580)-->(key: Colt, value: 360)-->None\n",
            "\n",
            "3 : (key: Emz, value: 520)-->None\n",
            "\n",
            "4 : (key: Doug, value: 1200)-->None\n",
            "\n",
            "======================\n",
            "Accepted\n",
            "(Edgar, 320) Found\n"
          ]
        }
      ],
      "source": [
        "arr = [('Colt', 360), ('Cordelius', 730), ('Shelly', 300), ('Doug', 1200), ('Emz', 520), ('Bo', 580)]\n",
        "ht = Hashtable(5)\n",
        "ht.create_from_array(arr)\n",
        "ht.print_hashtable()\n",
        "\n",
        "print('======================')\n",
        "result = ht.search_hashtable(('Doug', 1200))\n",
        "unittest.output_test(result, 'Found')\n",
        "print(f'(Doug, 1200) {result}')\n",
        "\n",
        "print('======================')\n",
        "ht.insert(('Doug', 1200))\n",
        "ht.print_hashtable()\n",
        "\n",
        "print('======================')\n",
        "result = ht.search_hashtable(('Edgar', 320))\n",
        "unittest.output_test(result, 'Not Found')\n",
        "print(f'(Edgar, 320) {result}')\n",
        "\n",
        "print('======================')\n",
        "ht.insert(('Edgar', 320))\n",
        "ht.print_hashtable()\n",
        "\n",
        "print('======================')\n",
        "result = ht.search_hashtable(('Edgar', 320))\n",
        "unittest.output_test(result, 'Found')\n",
        "print(f'(Edgar, 320) {result}')"
      ]
    },
    {
      "cell_type": "markdown",
      "metadata": {
        "id": "DzykBxGicdBw"
      },
      "source": [
        "#TASK 3\n",
        "Complete the following methods:\n",
        "\n",
        "\n",
        "\n",
        "> create_layered_hashtable()\n",
        "\n",
        "> search_element()"
      ]
    },
    {
      "cell_type": "code",
      "execution_count": 9,
      "metadata": {
        "id": "MkJtkO-ydCSw"
      },
      "outputs": [],
      "source": [
        "class Layered_Hashtable:\n",
        "  def __init__(self, express_array_size):\n",
        "    self.express_array = [None] * express_array_size\n",
        "\n",
        "  def print_express_lane(self):\n",
        "    for i in self.express_array:\n",
        "      print(i.elem, end = ' '*10)\n",
        "    print()\n",
        "\n",
        "  def print_layered_hashtable(self):\n",
        "    print('Express Lane is:')\n",
        "    self.print_express_lane()\n",
        "\n",
        "    for i in range (len(self.express_array)-1):\n",
        "      node = self.express_array[i]\n",
        "      next_node = self.express_array[i+1]\n",
        "      print(f'Normal Lane Nodes between Express Lane Node {node.elem} and Express Lane Node {next_node.elem} are: ')\n",
        "      while node != next_node:\n",
        "        print(node.elem, end = '->')\n",
        "        node = node.next\n",
        "      print()\n",
        "\n",
        "    print(f'Normal Lane Nodes ending in the Express Lane Node: {node.elem}')\n",
        "\n",
        "  #DO IT YOURSELF\n",
        "  def create_layered_hashtable(self, linked_list_head):\n",
        "    bucket_size = 0\n",
        "    current_node = linked_list_head\n",
        "    while current_node:\n",
        "        bucket_size += 1\n",
        "        current_node = current_node.next\n",
        "    bucket_size = (bucket_size // len(self.express_array)) + 1\n",
        "    current_node = linked_list_head\n",
        "    index = 0\n",
        "    while current_node:\n",
        "      if index % bucket_size == 0:\n",
        "        self.express_array[index // bucket_size] = current_node\n",
        "      index += 1\n",
        "      current_node = current_node.next\n",
        "\n",
        "  #DO IT YOURSELF\n",
        "  def search_element(self,k):\n",
        "    i = 0\n",
        "    while i < len(self.express_array) and self.express_array[i] and self.express_array[i].elem <= k:\n",
        "      i += 1\n",
        "    if i > 0:\n",
        "      current_node = self.express_array[i-1]\n",
        "      while current_node and (i == len(self.express_array) or not self.express_array[i] or current_node.elem < self.express_array[i].elem):\n",
        "        if current_node.elem == k:\n",
        "            return \"Found\"\n",
        "        current_node = current_node.next\n",
        "\n",
        "    return \"Not Found\""
      ]
    },
    {
      "cell_type": "code",
      "execution_count": 10,
      "metadata": {
        "colab": {
          "base_uri": "https://localhost:8080/"
        },
        "id": "9lxnCzZ6fymw",
        "outputId": "fa63c577-b54f-4df6-b5f1-ee3af7beb786"
      },
      "outputs": [
        {
          "name": "stdout",
          "output_type": "stream",
          "text": [
            "Express Lane is:\n",
            "4          18          62          84          \n",
            "Normal Lane Nodes between Express Lane Node 4 and Express Lane Node 18 are: \n",
            "4->6->9->\n",
            "Normal Lane Nodes between Express Lane Node 18 and Express Lane Node 62 are: \n",
            "18->25->37->\n",
            "Normal Lane Nodes between Express Lane Node 62 and Express Lane Node 84 are: \n",
            "62->67->79->\n",
            "Normal Lane Nodes ending in the Express Lane Node: 84\n",
            "==========1===========\n",
            "Accepted\n",
            "67 Found\n",
            "==========2===========\n",
            "Accepted\n",
            "84 Found\n",
            "==========3===========\n",
            "Accepted\n",
            "1 Not Found\n",
            "==========4===========\n",
            "Accepted\n",
            "92 Not Found\n",
            "==========5===========\n",
            "Accepted\n",
            "41 Not Found\n"
          ]
        }
      ],
      "source": [
        "arr = [4,6,9,18,25,37,62,67,79,84]\n",
        "head = create_linked_list(arr)\n",
        "express_array_size = 4\n",
        "\n",
        "layered_ht = Layered_Hashtable(express_array_size)\n",
        "layered_ht.create_layered_hashtable(head)\n",
        "layered_ht.print_layered_hashtable()\n",
        "\n",
        "print('==========1===========')\n",
        "result = layered_ht.search_element(67)\n",
        "unittest.output_test(result, 'Found')\n",
        "print(f'67 {result}') #67 Found\n",
        "\n",
        "print('==========2===========')\n",
        "result = layered_ht.search_element(84)\n",
        "unittest.output_test(result, 'Found')\n",
        "print(f'84 {result}') #84 Found\n",
        "\n",
        "print('==========3===========')\n",
        "result = layered_ht.search_element(1)\n",
        "unittest.output_test(result, 'Not Found')\n",
        "print(f'1 {result}') #1 Not Found\n",
        "\n",
        "print('==========4===========')\n",
        "result = layered_ht.search_element(92)\n",
        "unittest.output_test(result, 'Not Found')\n",
        "print(f'92 {result}') #92 Not Found\n",
        "\n",
        "print('==========5===========')\n",
        "result = layered_ht.search_element(41)\n",
        "unittest.output_test(result, 'Not Found')\n",
        "print(f'41 {result}') #41 Not Found"
      ]
    }
  ],
  "metadata": {
    "colab": {
      "provenance": []
    },
    "kernelspec": {
      "display_name": "Python 3",
      "name": "python3"
    },
    "language_info": {
      "codemirror_mode": {
        "name": "ipython",
        "version": 3
      },
      "file_extension": ".py",
      "mimetype": "text/x-python",
      "name": "python",
      "nbconvert_exporter": "python",
      "pygments_lexer": "ipython3",
      "version": "3.12.1"
    }
  },
  "nbformat": 4,
  "nbformat_minor": 0
}
