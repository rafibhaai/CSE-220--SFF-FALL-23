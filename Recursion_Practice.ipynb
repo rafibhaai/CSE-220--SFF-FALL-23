{
  "nbformat": 4,
  "nbformat_minor": 0,
  "metadata": {
    "colab": {
      "provenance": []
    },
    "kernelspec": {
      "name": "python3",
      "display_name": "Python 3"
    },
    "language_info": {
      "name": "python"
    }
  },
  "cells": [
    {
      "cell_type": "code",
      "execution_count": null,
      "metadata": {
        "id": "YQazQ4vOz7dE"
      },
      "outputs": [],
      "source": [
        "import numpy as np"
      ]
    },
    {
      "cell_type": "code",
      "source": [
        "def printnameNtimes(i,n):\n",
        "  if i>n:\n",
        "    return\n",
        "  else:\n",
        "    print('Neha')\n",
        "    printnameNtimes(i+1,n)\n",
        "\n",
        "printnameNtimes(1,5)"
      ],
      "metadata": {
        "colab": {
          "base_uri": "https://localhost:8080/"
        },
        "id": "t7itY2NyEfaY",
        "outputId": "8ab4a8af-8c7c-43a7-9e08-2cbf1032b800"
      },
      "execution_count": null,
      "outputs": [
        {
          "output_type": "stream",
          "name": "stdout",
          "text": [
            "Neha\n",
            "Neha\n",
            "Neha\n",
            "Neha\n",
            "Neha\n"
          ]
        }
      ]
    },
    {
      "cell_type": "code",
      "source": [
        "def printNumLin(i,N):\n",
        "  if i>N:\n",
        "    return\n",
        "  else:\n",
        "    print(i,end=' ')\n",
        "    printNumLin(i+1,N)\n",
        "\n",
        "\n",
        "printNumLin(1,3)"
      ],
      "metadata": {
        "colab": {
          "base_uri": "https://localhost:8080/"
        },
        "id": "n4P06tQP2VGQ",
        "outputId": "1ae019d1-fe11-4806-9ea8-54a5516e7d3a"
      },
      "execution_count": null,
      "outputs": [
        {
          "output_type": "stream",
          "name": "stdout",
          "text": [
            "1 2 3 "
          ]
        }
      ]
    },
    {
      "cell_type": "code",
      "source": [
        "def printOpposite(i,N):\n",
        "  if i<1:\n",
        "    return\n",
        "  else:\n",
        "    print(i)\n",
        "    printOpposite(i-1,N)\n",
        "\n",
        "printOpposite(3,3)"
      ],
      "metadata": {
        "colab": {
          "base_uri": "https://localhost:8080/"
        },
        "id": "UTsJGmjW6SwC",
        "outputId": "1a779d62-50de-4685-8ea5-4cbc1e3c2ec7"
      },
      "execution_count": null,
      "outputs": [
        {
          "output_type": "stream",
          "name": "stdout",
          "text": [
            "3\n",
            "2\n",
            "1\n"
          ]
        }
      ]
    },
    {
      "cell_type": "code",
      "source": [
        "def printNum(i,N):\n",
        "  if i<1:\n",
        "    return\n",
        "  else:\n",
        "    printNum(i-1,N)\n",
        "    print(i)\n",
        "\n",
        "printNum(3,3)"
      ],
      "metadata": {
        "colab": {
          "base_uri": "https://localhost:8080/"
        },
        "id": "XxkKNwZ0ESPh",
        "outputId": "125be6a6-b41d-410c-eac1-1984c0ba30d8"
      },
      "execution_count": null,
      "outputs": [
        {
          "output_type": "stream",
          "name": "stdout",
          "text": [
            "1\n",
            "2\n",
            "3\n"
          ]
        }
      ]
    },
    {
      "cell_type": "code",
      "source": [
        "def printNtoOne(i,N):\n",
        "  if i>N:\n",
        "    return\n",
        "  else:\n",
        "    printNtoOne(i+1,N)\n",
        "    print(i)\n",
        "\n",
        "printNtoOne(1,3)"
      ],
      "metadata": {
        "colab": {
          "base_uri": "https://localhost:8080/"
        },
        "id": "76B8Yv5mFxQW",
        "outputId": "e045eafd-65f0-44cd-c8b5-c4a122531241"
      },
      "execution_count": null,
      "outputs": [
        {
          "output_type": "stream",
          "name": "stdout",
          "text": [
            "3\n",
            "2\n",
            "1\n"
          ]
        }
      ]
    },
    {
      "cell_type": "code",
      "source": [
        "def summation(i,sum):\n",
        "\n",
        "  if i<0:\n",
        "    print(sum)\n",
        "    return\n",
        "  else:\n",
        "    summation(i-1,sum+i)\n",
        "\n",
        "\n",
        "\n",
        "summation(3,0)"
      ],
      "metadata": {
        "colab": {
          "base_uri": "https://localhost:8080/"
        },
        "id": "AnZjRwjDJwef",
        "outputId": "07a189dc-6f7c-4299-8de1-6dc83998a676"
      },
      "execution_count": null,
      "outputs": [
        {
          "output_type": "stream",
          "name": "stdout",
          "text": [
            "6\n"
          ]
        }
      ]
    },
    {
      "cell_type": "code",
      "source": [
        "def add(N):\n",
        "  if N==0:\n",
        "    return 0\n",
        "  else:\n",
        "    return N+add(N-1)\n",
        "\n",
        "add((3))"
      ],
      "metadata": {
        "colab": {
          "base_uri": "https://localhost:8080/"
        },
        "id": "afICRR1qzaFl",
        "outputId": "b8ae2202-63ab-4005-9ece-9c52120852a3"
      },
      "execution_count": null,
      "outputs": [
        {
          "output_type": "execute_result",
          "data": {
            "text/plain": [
              "6"
            ]
          },
          "metadata": {},
          "execution_count": 4
        }
      ]
    },
    {
      "cell_type": "code",
      "source": [
        "def revArray(arr,l,r):\n",
        "  if l>=r:\n",
        "    print(arr)\n",
        "    return\n",
        "  else:\n",
        "    save=arr[l]\n",
        "    arr[l]=arr[r]\n",
        "    arr[r]=save\n",
        "    revArray(arr,l+1,r-1)\n",
        "\n",
        "\n",
        "arr=np.array([1,2,3,4])\n",
        "revArray(arr,0,len(arr)-1)\n",
        "arr=np.array([5,4,2,1,8])\n",
        "revArray(arr,0,len(arr)-1)"
      ],
      "metadata": {
        "colab": {
          "base_uri": "https://localhost:8080/"
        },
        "id": "C4i9TX5n1I9A",
        "outputId": "10a427aa-af26-46dc-a88e-64dbe1420bd4"
      },
      "execution_count": null,
      "outputs": [
        {
          "output_type": "stream",
          "name": "stdout",
          "text": [
            "[4 3 2 1]\n",
            "[8 1 2 4 5]\n"
          ]
        }
      ]
    },
    {
      "cell_type": "code",
      "source": [
        "#2nd method\n",
        "def revArray2(arr,i):\n",
        "  if i==len(arr)//2:\n",
        "    print(arr)\n",
        "    return\n",
        "  else:\n",
        "    save=arr[i]\n",
        "    arr[i]=arr[len(arr)-i-1]\n",
        "    arr[len(arr)-i-1]=save\n",
        "    revArray2(arr,i+1)\n",
        "\n",
        "arr=np.array([1,2,3,4])\n",
        "revArray2(arr,0)\n",
        "arr=np.array([5,4,2,1,8])\n",
        "revArray2(arr,0)\n",
        "\n"
      ],
      "metadata": {
        "colab": {
          "base_uri": "https://localhost:8080/"
        },
        "id": "mRb1nrnSHlCR",
        "outputId": "4b211489-197b-40bd-8a73-6ef25d1d3b3e"
      },
      "execution_count": null,
      "outputs": [
        {
          "output_type": "stream",
          "name": "stdout",
          "text": [
            "[4 3 2 1]\n",
            "[8 1 2 4 5]\n"
          ]
        }
      ]
    },
    {
      "cell_type": "code",
      "source": [
        "def check_palindrome(s,l,r):\n",
        "  if l>=r:\n",
        "    return True\n",
        "  elif s[l]==s[r]:\n",
        "    return check_palindrome(s,l+1,r-1)\n",
        "  else:\n",
        "    return False\n",
        "\n",
        "s='malayalam'\n",
        "check_palindrome(s,0,len(s)-1)\n"
      ],
      "metadata": {
        "colab": {
          "base_uri": "https://localhost:8080/"
        },
        "id": "d4Fob5WbLid5",
        "outputId": "959e54f5-cd07-441a-d775-a7881903cbf5"
      },
      "execution_count": null,
      "outputs": [
        {
          "output_type": "execute_result",
          "data": {
            "text/plain": [
              "True"
            ]
          },
          "metadata": {},
          "execution_count": 17
        }
      ]
    },
    {
      "cell_type": "code",
      "source": [
        "def printsubsets(i,arr,empty_lst):\n",
        "  if i>=len(arr):\n",
        "    print(np.array(empty_lst))\n",
        "    return\n",
        "  else:\n",
        "    empty_lst.append(arr[i])\n",
        "    printsubsets(i+1,arr,empty_lst)\n",
        "    empty_lst.remove(arr[i])\n",
        "    printsubsets(i+1,arr,empty_lst)\n",
        "\n",
        "arr=np.array([3,1,2])\n",
        "printsubsets(0,arr,[])"
      ],
      "metadata": {
        "colab": {
          "base_uri": "https://localhost:8080/"
        },
        "id": "BgK7PpeV1eyJ",
        "outputId": "77f172c4-1714-4c2b-e6bd-fe34b823c576"
      },
      "execution_count": null,
      "outputs": [
        {
          "output_type": "stream",
          "name": "stdout",
          "text": [
            "[3 1 2]\n",
            "[3 1]\n",
            "[3 2]\n",
            "[3]\n",
            "[1 2]\n",
            "[1]\n",
            "[2]\n",
            "[]\n"
          ]
        }
      ]
    },
    {
      "cell_type": "markdown",
      "source": [
        "Print sub-arrays whose summation is equal to sum"
      ],
      "metadata": {
        "id": "rN2tv-MF6wAh"
      }
    },
    {
      "cell_type": "code",
      "source": [
        "def printSubArrays(i,arr,lst,sum):\n",
        "\n",
        "  if sum == 2:\n",
        "    print(lst)\n",
        "    return\n",
        "  else:\n",
        "    lst.append(arr[i])\n",
        "    printSubArrays(i+1,arr,lst,sum+arr[i])\n",
        "    lst.remove(arr[i])\n",
        "    printSubArrays(i+1,arr,lst,sum-arr[i])\n",
        "\n",
        "arr=np.array([1,2,1])\n",
        "printSubArrays(0,arr,[],0)"
      ],
      "metadata": {
        "colab": {
          "base_uri": "https://localhost:8080/",
          "height": 357
        },
        "id": "4mz0icGU6vQJ",
        "outputId": "edae9c39-a4de-4835-b9b3-15cddcef702b"
      },
      "execution_count": null,
      "outputs": [
        {
          "output_type": "error",
          "ename": "IndexError",
          "evalue": "ignored",
          "traceback": [
            "\u001b[0;31m---------------------------------------------------------------------------\u001b[0m",
            "\u001b[0;31mIndexError\u001b[0m                                Traceback (most recent call last)",
            "\u001b[0;32m<ipython-input-11-b2775a05ee8b>\u001b[0m in \u001b[0;36m<cell line: 13>\u001b[0;34m()\u001b[0m\n\u001b[1;32m     11\u001b[0m \u001b[0;34m\u001b[0m\u001b[0m\n\u001b[1;32m     12\u001b[0m \u001b[0marr\u001b[0m\u001b[0;34m=\u001b[0m\u001b[0mnp\u001b[0m\u001b[0;34m.\u001b[0m\u001b[0marray\u001b[0m\u001b[0;34m(\u001b[0m\u001b[0;34m[\u001b[0m\u001b[0;36m1\u001b[0m\u001b[0;34m,\u001b[0m\u001b[0;36m2\u001b[0m\u001b[0;34m,\u001b[0m\u001b[0;36m1\u001b[0m\u001b[0;34m]\u001b[0m\u001b[0;34m)\u001b[0m\u001b[0;34m\u001b[0m\u001b[0;34m\u001b[0m\u001b[0m\n\u001b[0;32m---> 13\u001b[0;31m \u001b[0mprintSubArrays\u001b[0m\u001b[0;34m(\u001b[0m\u001b[0;36m0\u001b[0m\u001b[0;34m,\u001b[0m\u001b[0marr\u001b[0m\u001b[0;34m,\u001b[0m\u001b[0;34m[\u001b[0m\u001b[0;34m]\u001b[0m\u001b[0;34m,\u001b[0m\u001b[0;36m0\u001b[0m\u001b[0;34m)\u001b[0m\u001b[0;34m\u001b[0m\u001b[0;34m\u001b[0m\u001b[0m\n\u001b[0m",
            "\u001b[0;32m<ipython-input-11-b2775a05ee8b>\u001b[0m in \u001b[0;36mprintSubArrays\u001b[0;34m(i, arr, lst, sum)\u001b[0m\n\u001b[1;32m      6\u001b[0m   \u001b[0;32melse\u001b[0m\u001b[0;34m:\u001b[0m\u001b[0;34m\u001b[0m\u001b[0;34m\u001b[0m\u001b[0m\n\u001b[1;32m      7\u001b[0m     \u001b[0mlst\u001b[0m\u001b[0;34m.\u001b[0m\u001b[0mappend\u001b[0m\u001b[0;34m(\u001b[0m\u001b[0marr\u001b[0m\u001b[0;34m[\u001b[0m\u001b[0mi\u001b[0m\u001b[0;34m]\u001b[0m\u001b[0;34m)\u001b[0m\u001b[0;34m\u001b[0m\u001b[0;34m\u001b[0m\u001b[0m\n\u001b[0;32m----> 8\u001b[0;31m     \u001b[0mprintSubArrays\u001b[0m\u001b[0;34m(\u001b[0m\u001b[0mi\u001b[0m\u001b[0;34m+\u001b[0m\u001b[0;36m1\u001b[0m\u001b[0;34m,\u001b[0m\u001b[0marr\u001b[0m\u001b[0;34m,\u001b[0m\u001b[0mlst\u001b[0m\u001b[0;34m,\u001b[0m\u001b[0msum\u001b[0m\u001b[0;34m+\u001b[0m\u001b[0marr\u001b[0m\u001b[0;34m[\u001b[0m\u001b[0mi\u001b[0m\u001b[0;34m]\u001b[0m\u001b[0;34m)\u001b[0m\u001b[0;34m\u001b[0m\u001b[0;34m\u001b[0m\u001b[0m\n\u001b[0m\u001b[1;32m      9\u001b[0m     \u001b[0mlst\u001b[0m\u001b[0;34m.\u001b[0m\u001b[0mremove\u001b[0m\u001b[0;34m(\u001b[0m\u001b[0marr\u001b[0m\u001b[0;34m[\u001b[0m\u001b[0mi\u001b[0m\u001b[0;34m]\u001b[0m\u001b[0;34m)\u001b[0m\u001b[0;34m\u001b[0m\u001b[0;34m\u001b[0m\u001b[0m\n\u001b[1;32m     10\u001b[0m     \u001b[0mprintSubArrays\u001b[0m\u001b[0;34m(\u001b[0m\u001b[0mi\u001b[0m\u001b[0;34m+\u001b[0m\u001b[0;36m1\u001b[0m\u001b[0;34m,\u001b[0m\u001b[0marr\u001b[0m\u001b[0;34m,\u001b[0m\u001b[0mlst\u001b[0m\u001b[0;34m,\u001b[0m\u001b[0msum\u001b[0m\u001b[0;34m-\u001b[0m\u001b[0marr\u001b[0m\u001b[0;34m[\u001b[0m\u001b[0mi\u001b[0m\u001b[0;34m]\u001b[0m\u001b[0;34m)\u001b[0m\u001b[0;34m\u001b[0m\u001b[0;34m\u001b[0m\u001b[0m\n",
            "\u001b[0;32m<ipython-input-11-b2775a05ee8b>\u001b[0m in \u001b[0;36mprintSubArrays\u001b[0;34m(i, arr, lst, sum)\u001b[0m\n\u001b[1;32m      6\u001b[0m   \u001b[0;32melse\u001b[0m\u001b[0;34m:\u001b[0m\u001b[0;34m\u001b[0m\u001b[0;34m\u001b[0m\u001b[0m\n\u001b[1;32m      7\u001b[0m     \u001b[0mlst\u001b[0m\u001b[0;34m.\u001b[0m\u001b[0mappend\u001b[0m\u001b[0;34m(\u001b[0m\u001b[0marr\u001b[0m\u001b[0;34m[\u001b[0m\u001b[0mi\u001b[0m\u001b[0;34m]\u001b[0m\u001b[0;34m)\u001b[0m\u001b[0;34m\u001b[0m\u001b[0;34m\u001b[0m\u001b[0m\n\u001b[0;32m----> 8\u001b[0;31m     \u001b[0mprintSubArrays\u001b[0m\u001b[0;34m(\u001b[0m\u001b[0mi\u001b[0m\u001b[0;34m+\u001b[0m\u001b[0;36m1\u001b[0m\u001b[0;34m,\u001b[0m\u001b[0marr\u001b[0m\u001b[0;34m,\u001b[0m\u001b[0mlst\u001b[0m\u001b[0;34m,\u001b[0m\u001b[0msum\u001b[0m\u001b[0;34m+\u001b[0m\u001b[0marr\u001b[0m\u001b[0;34m[\u001b[0m\u001b[0mi\u001b[0m\u001b[0;34m]\u001b[0m\u001b[0;34m)\u001b[0m\u001b[0;34m\u001b[0m\u001b[0;34m\u001b[0m\u001b[0m\n\u001b[0m\u001b[1;32m      9\u001b[0m     \u001b[0mlst\u001b[0m\u001b[0;34m.\u001b[0m\u001b[0mremove\u001b[0m\u001b[0;34m(\u001b[0m\u001b[0marr\u001b[0m\u001b[0;34m[\u001b[0m\u001b[0mi\u001b[0m\u001b[0;34m]\u001b[0m\u001b[0;34m)\u001b[0m\u001b[0;34m\u001b[0m\u001b[0;34m\u001b[0m\u001b[0m\n\u001b[1;32m     10\u001b[0m     \u001b[0mprintSubArrays\u001b[0m\u001b[0;34m(\u001b[0m\u001b[0mi\u001b[0m\u001b[0;34m+\u001b[0m\u001b[0;36m1\u001b[0m\u001b[0;34m,\u001b[0m\u001b[0marr\u001b[0m\u001b[0;34m,\u001b[0m\u001b[0mlst\u001b[0m\u001b[0;34m,\u001b[0m\u001b[0msum\u001b[0m\u001b[0;34m-\u001b[0m\u001b[0marr\u001b[0m\u001b[0;34m[\u001b[0m\u001b[0mi\u001b[0m\u001b[0;34m]\u001b[0m\u001b[0;34m)\u001b[0m\u001b[0;34m\u001b[0m\u001b[0;34m\u001b[0m\u001b[0m\n",
            "\u001b[0;32m<ipython-input-11-b2775a05ee8b>\u001b[0m in \u001b[0;36mprintSubArrays\u001b[0;34m(i, arr, lst, sum)\u001b[0m\n\u001b[1;32m      6\u001b[0m   \u001b[0;32melse\u001b[0m\u001b[0;34m:\u001b[0m\u001b[0;34m\u001b[0m\u001b[0;34m\u001b[0m\u001b[0m\n\u001b[1;32m      7\u001b[0m     \u001b[0mlst\u001b[0m\u001b[0;34m.\u001b[0m\u001b[0mappend\u001b[0m\u001b[0;34m(\u001b[0m\u001b[0marr\u001b[0m\u001b[0;34m[\u001b[0m\u001b[0mi\u001b[0m\u001b[0;34m]\u001b[0m\u001b[0;34m)\u001b[0m\u001b[0;34m\u001b[0m\u001b[0;34m\u001b[0m\u001b[0m\n\u001b[0;32m----> 8\u001b[0;31m     \u001b[0mprintSubArrays\u001b[0m\u001b[0;34m(\u001b[0m\u001b[0mi\u001b[0m\u001b[0;34m+\u001b[0m\u001b[0;36m1\u001b[0m\u001b[0;34m,\u001b[0m\u001b[0marr\u001b[0m\u001b[0;34m,\u001b[0m\u001b[0mlst\u001b[0m\u001b[0;34m,\u001b[0m\u001b[0msum\u001b[0m\u001b[0;34m+\u001b[0m\u001b[0marr\u001b[0m\u001b[0;34m[\u001b[0m\u001b[0mi\u001b[0m\u001b[0;34m]\u001b[0m\u001b[0;34m)\u001b[0m\u001b[0;34m\u001b[0m\u001b[0;34m\u001b[0m\u001b[0m\n\u001b[0m\u001b[1;32m      9\u001b[0m     \u001b[0mlst\u001b[0m\u001b[0;34m.\u001b[0m\u001b[0mremove\u001b[0m\u001b[0;34m(\u001b[0m\u001b[0marr\u001b[0m\u001b[0;34m[\u001b[0m\u001b[0mi\u001b[0m\u001b[0;34m]\u001b[0m\u001b[0;34m)\u001b[0m\u001b[0;34m\u001b[0m\u001b[0;34m\u001b[0m\u001b[0m\n\u001b[1;32m     10\u001b[0m     \u001b[0mprintSubArrays\u001b[0m\u001b[0;34m(\u001b[0m\u001b[0mi\u001b[0m\u001b[0;34m+\u001b[0m\u001b[0;36m1\u001b[0m\u001b[0;34m,\u001b[0m\u001b[0marr\u001b[0m\u001b[0;34m,\u001b[0m\u001b[0mlst\u001b[0m\u001b[0;34m,\u001b[0m\u001b[0msum\u001b[0m\u001b[0;34m-\u001b[0m\u001b[0marr\u001b[0m\u001b[0;34m[\u001b[0m\u001b[0mi\u001b[0m\u001b[0;34m]\u001b[0m\u001b[0;34m)\u001b[0m\u001b[0;34m\u001b[0m\u001b[0;34m\u001b[0m\u001b[0m\n",
            "\u001b[0;32m<ipython-input-11-b2775a05ee8b>\u001b[0m in \u001b[0;36mprintSubArrays\u001b[0;34m(i, arr, lst, sum)\u001b[0m\n\u001b[1;32m      5\u001b[0m     \u001b[0;32mreturn\u001b[0m\u001b[0;34m\u001b[0m\u001b[0;34m\u001b[0m\u001b[0m\n\u001b[1;32m      6\u001b[0m   \u001b[0;32melse\u001b[0m\u001b[0;34m:\u001b[0m\u001b[0;34m\u001b[0m\u001b[0;34m\u001b[0m\u001b[0m\n\u001b[0;32m----> 7\u001b[0;31m     \u001b[0mlst\u001b[0m\u001b[0;34m.\u001b[0m\u001b[0mappend\u001b[0m\u001b[0;34m(\u001b[0m\u001b[0marr\u001b[0m\u001b[0;34m[\u001b[0m\u001b[0mi\u001b[0m\u001b[0;34m]\u001b[0m\u001b[0;34m)\u001b[0m\u001b[0;34m\u001b[0m\u001b[0;34m\u001b[0m\u001b[0m\n\u001b[0m\u001b[1;32m      8\u001b[0m     \u001b[0mprintSubArrays\u001b[0m\u001b[0;34m(\u001b[0m\u001b[0mi\u001b[0m\u001b[0;34m+\u001b[0m\u001b[0;36m1\u001b[0m\u001b[0;34m,\u001b[0m\u001b[0marr\u001b[0m\u001b[0;34m,\u001b[0m\u001b[0mlst\u001b[0m\u001b[0;34m,\u001b[0m\u001b[0msum\u001b[0m\u001b[0;34m+\u001b[0m\u001b[0marr\u001b[0m\u001b[0;34m[\u001b[0m\u001b[0mi\u001b[0m\u001b[0;34m]\u001b[0m\u001b[0;34m)\u001b[0m\u001b[0;34m\u001b[0m\u001b[0;34m\u001b[0m\u001b[0m\n\u001b[1;32m      9\u001b[0m     \u001b[0mlst\u001b[0m\u001b[0;34m.\u001b[0m\u001b[0mremove\u001b[0m\u001b[0;34m(\u001b[0m\u001b[0marr\u001b[0m\u001b[0;34m[\u001b[0m\u001b[0mi\u001b[0m\u001b[0;34m]\u001b[0m\u001b[0;34m)\u001b[0m\u001b[0;34m\u001b[0m\u001b[0;34m\u001b[0m\u001b[0m\n",
            "\u001b[0;31mIndexError\u001b[0m: index 3 is out of bounds for axis 0 with size 3"
          ]
        }
      ]
    },
    {
      "cell_type": "code",
      "source": [
        "def remove_char_a(s,out,i):\n",
        "  if i == len(s):\n",
        "    print(out)\n",
        "    return\n",
        "  elif s[i] != 'a':\n",
        "    out+=s[i]\n",
        "  return remove_char_a(s,out,i+1)\n",
        "\n",
        "remove_char_a('baccad','',0)"
      ],
      "metadata": {
        "colab": {
          "base_uri": "https://localhost:8080/"
        },
        "id": "wr37uZZ2xo5g",
        "outputId": "5d3ee973-36a9-46de-b663-7aa671c2e273"
      },
      "execution_count": null,
      "outputs": [
        {
          "output_type": "stream",
          "name": "stdout",
          "text": [
            "bccd\n"
          ]
        }
      ]
    },
    {
      "cell_type": "code",
      "source": [
        "def startwithApple(s,out):\n",
        "  x=s.startswith('apple')\n",
        "  if len(s) == 0:\n",
        "    return False\n",
        "  elif x == True:\n",
        "    return x\n",
        "  return startwithApple(s[1:],out)\n",
        "\n",
        "print(startwithApple('dapplefg',''))"
      ],
      "metadata": {
        "colab": {
          "base_uri": "https://localhost:8080/"
        },
        "id": "dI4uXF41ospo",
        "outputId": "51b8fe18-683f-43d3-b88e-fe470ee913a2"
      },
      "execution_count": null,
      "outputs": [
        {
          "output_type": "stream",
          "name": "stdout",
          "text": [
            "True\n"
          ]
        }
      ]
    },
    {
      "cell_type": "code",
      "source": [
        "def check_sort(arr,i):\n",
        "  if i == len(arr)-1:\n",
        "    return 'Sorted'\n",
        "\n",
        "  elif arr[i] < arr[i+1]:\n",
        "    return check_sort(arr,i+1)\n",
        "\n",
        "  else:\n",
        "    return 'Unsorted'\n",
        "\n",
        "arr = np.array([1,2,4,6,7])\n",
        "print(check_sort(arr,0))"
      ],
      "metadata": {
        "colab": {
          "base_uri": "https://localhost:8080/"
        },
        "id": "-6UPNUvdEvYb",
        "outputId": "f3743c86-351d-4b04-8efc-6b060bdb9667"
      },
      "execution_count": null,
      "outputs": [
        {
          "output_type": "stream",
          "name": "stdout",
          "text": [
            "Sorted\n"
          ]
        }
      ]
    },
    {
      "cell_type": "code",
      "source": [
        "def search(arr,i,target):\n",
        "  if i == len(arr):\n",
        "    return False\n",
        "  elif arr[i] == target:\n",
        "    return True\n",
        "\n",
        "  return search(arr,i+1,target)\n",
        "\n",
        "arr = np.array([1,5,7,8,34,2])\n",
        "print(search(arr,0,2))"
      ],
      "metadata": {
        "colab": {
          "base_uri": "https://localhost:8080/"
        },
        "id": "1zA9C3YQHS5n",
        "outputId": "e0c501f8-3b61-4d6f-f589-066078014e0a"
      },
      "execution_count": null,
      "outputs": [
        {
          "output_type": "stream",
          "name": "stdout",
          "text": [
            "True\n"
          ]
        }
      ]
    },
    {
      "cell_type": "code",
      "source": [
        "def printArray(arr,i,target,lst):\n",
        "  if i == len(arr):\n",
        "    print(np.array(lst))\n",
        "    return\n",
        "\n",
        "  elif arr[i] == target:\n",
        "    lst.append(i)\n",
        "  return printArray(arr,i+1,target,lst)\n",
        "\n",
        "arr = np.array([1,2,4,4,5])\n",
        "printArray(arr,0,4,[])"
      ],
      "metadata": {
        "colab": {
          "base_uri": "https://localhost:8080/"
        },
        "id": "Jsf6AfbUOOCk",
        "outputId": "ba78239b-adc6-4053-ac1c-5a77a763ffad"
      },
      "execution_count": null,
      "outputs": [
        {
          "output_type": "stream",
          "name": "stdout",
          "text": [
            "[2 3]\n"
          ]
        }
      ]
    },
    {
      "cell_type": "markdown",
      "source": [
        "\n",
        "Practice Sheet"
      ],
      "metadata": {
        "id": "AnkAiasixkuh"
      }
    },
    {
      "cell_type": "code",
      "source": [
        "#1\n",
        "def sumDigits(n):\n",
        "  sum=0\n",
        "  if n<10:\n",
        "    return n\n",
        "  else:\n",
        "    sum+=n%10\n",
        "    return sum+sumDigits(n//10)\n",
        "\n",
        "\n",
        "print(sumDigits(126))"
      ],
      "metadata": {
        "colab": {
          "base_uri": "https://localhost:8080/"
        },
        "id": "2XjmctBzIvME",
        "outputId": "bad8c788-3982-4223-f114-89b5dc40bf68"
      },
      "execution_count": null,
      "outputs": [
        {
          "output_type": "stream",
          "name": "stdout",
          "text": [
            "9\n"
          ]
        }
      ]
    },
    {
      "cell_type": "code",
      "source": [
        "#2\n",
        "def bunnyEars(i,n,sum):\n",
        "  if i>n:\n",
        "    print(sum)\n",
        "    return\n",
        "  elif n==0:\n",
        "    return 0\n",
        "  elif i%2==0:\n",
        "    sum+=3\n",
        "    return bunnyEars(i+1,n,sum)\n",
        "  elif i%2!=0:\n",
        "    sum+=2\n",
        "    return bunnyEars(i+1,n,sum)\n",
        "\n",
        "bunnyEars(1,2,0)"
      ],
      "metadata": {
        "colab": {
          "base_uri": "https://localhost:8080/"
        },
        "id": "LjXA2fcgONkh",
        "outputId": "9b0ff05a-99c4-4efc-ada3-4cd4929f31ba"
      },
      "execution_count": null,
      "outputs": [
        {
          "output_type": "stream",
          "name": "stdout",
          "text": [
            "5\n"
          ]
        }
      ]
    },
    {
      "cell_type": "code",
      "source": [
        "#3\n",
        "def count7(n):\n",
        "  count=0\n",
        "  if n\n",
        "\n"
      ],
      "metadata": {
        "id": "hxbX3AISQWgM"
      },
      "execution_count": null,
      "outputs": []
    },
    {
      "cell_type": "code",
      "source": [
        "#4\n",
        "def check_char(i,string,count):\n",
        "  if i>=len(string):\n",
        "    print(count)\n",
        "    return\n",
        "\n",
        "  if string[i]=='x':\n",
        "    count+=1\n",
        "    return check_char(i+1,string,count)\n",
        "  else:\n",
        "    return check_char(i+1,string,count)\n",
        "\n",
        "check_char(0,'xxhi',0)"
      ],
      "metadata": {
        "colab": {
          "base_uri": "https://localhost:8080/"
        },
        "id": "5eBMiBtNVaoN",
        "outputId": "cc1a9a09-b941-4283-d9d0-5fc7501cc71e"
      },
      "execution_count": null,
      "outputs": [
        {
          "output_type": "stream",
          "name": "stdout",
          "text": [
            "2\n"
          ]
        }
      ]
    },
    {
      "cell_type": "code",
      "source": [
        "#5\n",
        "def changePi(string,out):\n",
        "  x=string.startswith('pi')\n",
        "  if len(string) == 0:\n",
        "    return out\n",
        "  elif x == False:\n",
        "    out+=string[0]\n",
        "  elif x == True:\n",
        "    out+='3.14'\n",
        "    return changePi(string[2:],out)\n",
        "\n",
        "  return changePi(string[1:],out)\n",
        "\n",
        "\n",
        "print(changePi('xpix',''))"
      ],
      "metadata": {
        "colab": {
          "base_uri": "https://localhost:8080/"
        },
        "id": "QdCgIyFwXFh_",
        "outputId": "3140c383-f5c0-4c1e-b9f4-e9a2464d63ad"
      },
      "execution_count": null,
      "outputs": [
        {
          "output_type": "stream",
          "name": "stdout",
          "text": [
            "x3.14x\n"
          ]
        }
      ]
    },
    {
      "cell_type": "code",
      "source": [
        "#6\n",
        "def array11(arr,idx,count):\n",
        "  if idx>=len(arr):\n",
        "    print(count)\n",
        "    return\n",
        "  elif arr[idx]==11:\n",
        "    count+=1\n",
        "  return array11(arr,idx+1,count)\n",
        "\n",
        "arr=np.array([1,2,11])\n",
        "array11(arr,0,0)"
      ],
      "metadata": {
        "colab": {
          "base_uri": "https://localhost:8080/"
        },
        "id": "ADT3kJE1Z3K0",
        "outputId": "db7f4b26-91d0-44d4-876b-db0ad7e20ce8"
      },
      "execution_count": null,
      "outputs": [
        {
          "output_type": "stream",
          "name": "stdout",
          "text": [
            "1\n"
          ]
        }
      ]
    },
    {
      "cell_type": "code",
      "source": [
        "#7\n",
        "def pairStar(s,out):\n",
        "  if len(s) == 0:\n",
        "    print(out)\n",
        "    return\n",
        "  elif len(s) == 1:\n",
        "    out+=s\n",
        "  elif len(s) > 1:\n",
        "    if s[0] == s[1]:\n",
        "      out+=s[0]+'*'\n",
        "    else:\n",
        "      out+=s[0]\n",
        "  else:\n",
        "\n",
        "    out+=s[0]\n",
        "\n",
        "  return pairStar(s[1:],out)\n",
        "\n",
        "\n",
        "\n",
        "pairStar('hello',\"\")"
      ],
      "metadata": {
        "colab": {
          "base_uri": "https://localhost:8080/"
        },
        "id": "XvLZrgQgbUOO",
        "outputId": "ed878b86-5e15-45be-cd61-44f043419d5e"
      },
      "execution_count": null,
      "outputs": [
        {
          "output_type": "stream",
          "name": "stdout",
          "text": [
            "hel*lo\n"
          ]
        }
      ]
    },
    {
      "cell_type": "code",
      "source": [
        "#8\n",
        "def countAbc(s,count):\n",
        "\n",
        "  if len(s) == 0:\n",
        "    return count\n",
        "  elif s.startswith('abc') or s.startswith('aba') :\n",
        "    count+=1\n",
        "\n",
        "  return countAbc(s[1:],count)\n",
        "\n",
        "\n",
        "print(countAbc(\"abc\",0))\n",
        "print(countAbc(\"abcxxabc\", 0))"
      ],
      "metadata": {
        "colab": {
          "base_uri": "https://localhost:8080/"
        },
        "id": "KIz1EBPCs3sq",
        "outputId": "f72193f8-d278-4164-fdcd-0deed534233b"
      },
      "execution_count": null,
      "outputs": [
        {
          "output_type": "stream",
          "name": "stdout",
          "text": [
            "1\n",
            "2\n"
          ]
        }
      ]
    },
    {
      "cell_type": "code",
      "source": [
        "#9\n",
        "def countHi2(s,count,out):\n",
        "  if len(s) == 0:\n",
        "    return count\n",
        "  elif s.startswith('hi'):\n",
        "    if out[len(out)-1] != 'x':\n",
        "      count += 1\n",
        "  else:\n",
        "    out += s[0]\n",
        "  return countHi2(s[1:],count,out)\n",
        "\n",
        "print(countHi2(\"ahixhi\", 0, ''))\n",
        "print(countHi2(\"ahibhi\", 0, ''))"
      ],
      "metadata": {
        "id": "Qjdcx2na9Udi",
        "colab": {
          "base_uri": "https://localhost:8080/"
        },
        "outputId": "367c42b4-c6d5-408a-c20e-c96d9fe2adbf"
      },
      "execution_count": null,
      "outputs": [
        {
          "output_type": "stream",
          "name": "stdout",
          "text": [
            "1\n",
            "2\n"
          ]
        }
      ]
    },
    {
      "cell_type": "code",
      "source": [
        "#10\n",
        "def subsetCount(s,sub,count):\n",
        "  x = s.startswith(sub)\n",
        "  if len(s) == 0:\n",
        "    print(count)\n",
        "    return\n",
        "  if x == True:\n",
        "    count+=1\n",
        "  return subsetCount(s[1:],sub,count)\n",
        "\n",
        "subsetCount(\"catcowcat\", \"cat\",0)\n"
      ],
      "metadata": {
        "colab": {
          "base_uri": "https://localhost:8080/"
        },
        "id": "agHef7kariJT",
        "outputId": "e34c6bee-ccbb-4f75-aee8-cd57e9a9df4b"
      },
      "execution_count": null,
      "outputs": [
        {
          "output_type": "stream",
          "name": "stdout",
          "text": [
            "2\n"
          ]
        }
      ]
    },
    {
      "cell_type": "code",
      "source": [
        "#11\n",
        "def bunnyEars(n):\n",
        "  if n == 0:\n",
        "    return 0\n",
        "  elif n == 1:\n",
        "    return 2\n",
        "  else:\n",
        "    return 2 + bunnyEars(n-1)\n",
        "\n",
        "print(bunnyEars(3))\n"
      ],
      "metadata": {
        "colab": {
          "base_uri": "https://localhost:8080/"
        },
        "id": "TGEBIoQmseOL",
        "outputId": "63043d29-5583-4a79-af8c-4d97d5fa3a32"
      },
      "execution_count": null,
      "outputs": [
        {
          "output_type": "stream",
          "name": "stdout",
          "text": [
            "6\n"
          ]
        }
      ]
    },
    {
      "cell_type": "code",
      "source": [
        "#12\n",
        "def triangle(n):\n",
        "  if n == 0:\n",
        "    return 0\n",
        "  elif n == 1:\n",
        "    return 1\n",
        "  else:\n",
        "    return n + triangle(n-1)\n",
        "\n",
        "print(triangle(2))"
      ],
      "metadata": {
        "colab": {
          "base_uri": "https://localhost:8080/"
        },
        "id": "dcmnN0pguXQB",
        "outputId": "e79b5dce-0cfb-4260-d951-5dbef7fc96e6"
      },
      "execution_count": null,
      "outputs": [
        {
          "output_type": "stream",
          "name": "stdout",
          "text": [
            "3\n"
          ]
        }
      ]
    },
    {
      "cell_type": "code",
      "source": [
        "#13\n",
        "def noX(s,out):\n",
        "  if len(s) == 0:\n",
        "    print(out)\n",
        "    return\n",
        "  elif s[0] != 'x':\n",
        "    out += s[0]\n",
        "  return noX(s[1:],out)\n",
        "\n",
        "noX(\"xaxb\",'')\n"
      ],
      "metadata": {
        "colab": {
          "base_uri": "https://localhost:8080/"
        },
        "id": "3NIf1UQUvfnn",
        "outputId": "9b037a58-6c41-4232-bce5-6ce22d9f9d08"
      },
      "execution_count": null,
      "outputs": [
        {
          "output_type": "stream",
          "name": "stdout",
          "text": [
            "ab\n"
          ]
        }
      ]
    },
    {
      "cell_type": "code",
      "source": [
        "#14\n",
        "\n"
      ],
      "metadata": {
        "id": "sH__wkw23zhF"
      },
      "execution_count": null,
      "outputs": []
    },
    {
      "cell_type": "code",
      "source": [
        "#15\n",
        "def endX(s,out1,out2):\n",
        "  if len(s) == 0:\n",
        "    return out1+out2\n",
        "\n",
        "  elif s[0] != 'x':\n",
        "    out1+=s[0]\n",
        "  elif s[0] == 'x':\n",
        "    out2+=s[0]\n",
        "  return endX(s[1:],out1,out2)\n",
        "\n",
        "print(endX(\"xxre\",'',''))"
      ],
      "metadata": {
        "colab": {
          "base_uri": "https://localhost:8080/"
        },
        "id": "xAR3fH3uwPqk",
        "outputId": "bee45e6c-9f91-4f05-e123-9a5cb6684319"
      },
      "execution_count": null,
      "outputs": [
        {
          "output_type": "stream",
          "name": "stdout",
          "text": [
            "rexx\n"
          ]
        }
      ]
    },
    {
      "cell_type": "code",
      "source": [
        "#16\n",
        "def count11(s,out,count):\n",
        "  if len(s) == 0:\n",
        "    return count\n",
        "  elif s.startswith('11'):\n",
        "    if out[len(out)-1] != '1':\n",
        "      count += 1\n",
        "  else:\n",
        "    out += s[0]\n",
        "  return count11(s[1:], out, count)\n",
        "\n",
        "print(count11(\"11abc11\", ' ', 0))\n",
        "print(count11(\"abc11x11x11\", ' ', 0))"
      ],
      "metadata": {
        "colab": {
          "base_uri": "https://localhost:8080/"
        },
        "id": "T14GtE_iJGhk",
        "outputId": "78abd7c4-8910-403d-f8e5-0ff6e95f79e9"
      },
      "execution_count": null,
      "outputs": [
        {
          "output_type": "stream",
          "name": "stdout",
          "text": [
            "2\n",
            "3\n"
          ]
        }
      ]
    },
    {
      "cell_type": "code",
      "source": [
        "#17\n",
        "def parenBit(s,out):\n",
        "\n",
        "\n",
        "\n",
        "print(\"xyz(abc)123\", '')"
      ],
      "metadata": {
        "colab": {
          "base_uri": "https://localhost:8080/"
        },
        "id": "WoQuVt5PJHY2",
        "outputId": "e626aa75-2536-40de-bf4e-0b1cfa34482d"
      },
      "execution_count": null,
      "outputs": [
        {
          "output_type": "stream",
          "name": "stdout",
          "text": [
            "xyz(abc)123 \n"
          ]
        }
      ]
    },
    {
      "cell_type": "code",
      "source": [
        "#18\n",
        "def strCopies(s,sub,num,count):\n",
        "  x = s.startswith(sub)\n",
        "  if len(s) == 0:\n",
        "    if count == num:\n",
        "      return True\n",
        "    else:\n",
        "      return False\n",
        "  elif x :\n",
        "    count += 1\n",
        "  return strCopies(s[1:],sub,num,count)\n",
        "\n",
        "print(strCopies(\"catcowcat\", \"cat\", 2, 0))\n",
        "print(strCopies(\"catcowcat\", \"cow\", 2, 0))"
      ],
      "metadata": {
        "colab": {
          "base_uri": "https://localhost:8080/"
        },
        "id": "l1kvPyLMxgqg",
        "outputId": "df2e7886-267a-4b99-a07d-640ad064a08f"
      },
      "execution_count": null,
      "outputs": [
        {
          "output_type": "stream",
          "name": "stdout",
          "text": [
            "True\n",
            "False\n"
          ]
        }
      ]
    },
    {
      "cell_type": "code",
      "source": [
        "#19\n",
        "def changeX(s,out):\n",
        "  if len(s) == 0:\n",
        "    return out\n",
        "  elif s[0] == 'x':\n",
        "    out += 'y'\n",
        "  else:\n",
        "    out += s[0]\n",
        "  return changeX(s[1:],out)\n",
        "\n",
        "print(changeX(\"codex\",''))"
      ],
      "metadata": {
        "colab": {
          "base_uri": "https://localhost:8080/"
        },
        "id": "4eS6DcRz7V8G",
        "outputId": "dd279ea7-f175-47c5-8fd8-9f0acb2a3e86"
      },
      "execution_count": null,
      "outputs": [
        {
          "output_type": "stream",
          "name": "stdout",
          "text": [
            "codey\n"
          ]
        }
      ]
    },
    {
      "cell_type": "code",
      "source": [
        "#20\n",
        "def array6(arr,i):\n",
        "  if i == len(arr):\n",
        "    return False\n",
        "  elif arr[i] == 6:\n",
        "    return True\n",
        "  return array6(arr,i+1)\n",
        "\n",
        "print(array6([1, 6, 4], 0))"
      ],
      "metadata": {
        "colab": {
          "base_uri": "https://localhost:8080/"
        },
        "id": "CLfxoosg-oFN",
        "outputId": "add0f9fc-065b-4063-8d26-d6f54a5957fe"
      },
      "execution_count": null,
      "outputs": [
        {
          "output_type": "stream",
          "name": "stdout",
          "text": [
            "True\n"
          ]
        }
      ]
    },
    {
      "cell_type": "code",
      "source": [
        "#21\n",
        "def allStar(s,i,out):\n",
        "  if i == len(s):\n",
        "    return out\n",
        "  else:\n",
        "    if i != len(arr)-1:\n",
        "      out = out + s[i] + '*'\n",
        "    else:\n",
        "      out = out + s[i]\n",
        "  return allStar(s, i+1, out)\n",
        "\n",
        "print(allStar(\"hello\",0,''))"
      ],
      "metadata": {
        "colab": {
          "base_uri": "https://localhost:8080/"
        },
        "id": "l3dytQG3_hUe",
        "outputId": "5b500686-14b0-4157-cd89-c20a3d7c0e87"
      },
      "execution_count": null,
      "outputs": [
        {
          "output_type": "stream",
          "name": "stdout",
          "text": [
            "h*e*l*l*o\n"
          ]
        }
      ]
    },
    {
      "cell_type": "code",
      "source": [
        "#22\n"
      ],
      "metadata": {
        "id": "YGChkEMVAlVm"
      },
      "execution_count": null,
      "outputs": []
    }
  ]
}